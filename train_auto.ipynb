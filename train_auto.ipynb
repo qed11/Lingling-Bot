{
 "cells": [
  {
   "cell_type": "code",
   "execution_count": 1,
   "source": [
    "import numpy as np\r\n",
    "import matplotlib.pyplot as plt\r\n",
    "import torch\r\n",
    "import torch.nn as nn\r\n",
    "import torch.nn.functional as F\r\n",
    "import torch.optim as optim\r\n",
    "import torchvision\r\n",
    "import torch.utils.data as dt\r\n",
    "import torchvision.transforms as transforms\r\n",
    "import time\r\n",
    "import os\r\n",
    "import random\r\n",
    "from PIL import Image\r\n",
    "from dataset import AutoDataset\r\n",
    "from networks import AutoEncoder"
   ],
   "outputs": [],
   "metadata": {}
  },
  {
   "cell_type": "code",
   "execution_count": 2,
   "source": [
    "#function converts one folder of pictures into\r\n",
    "def autoencoder_dataset(path, set_percent = 0.1):\r\n",
    "    transform = transforms.Compose([transforms.Grayscale(), transforms.ToTensor(), transforms.Normalize((0.5), (0.5/3))])   #Make sure images are tensors, lie within 0 and 1\r\n",
    "    dataset = AutoDataset(path, transform = transform) #need to implement   #Turn the images into a dataset\r\n",
    "    set_size = int( set_percent * len( dataset ) )                                                        #Length of test and validation sets\r\n",
    "    return dt.random_split(dataset, [len( dataset ) - 2 * set_size, set_size, set_size])                #Return datasets in order of training set, validation set, test setde"
   ],
   "outputs": [],
   "metadata": {}
  },
  {
   "cell_type": "code",
   "execution_count": 3,
   "source": [
    "train, val, test = autoencoder_dataset('Data\\Hilbert\\Autoencoder')"
   ],
   "outputs": [],
   "metadata": {}
  },
  {
   "cell_type": "code",
   "execution_count": 4,
   "source": [
    "device = torch.device('cuda' if torch.cuda.is_available() else 'cpu')"
   ],
   "outputs": [],
   "metadata": {}
  },
  {
   "cell_type": "code",
   "execution_count": 5,
   "source": [
    "train_loader = dt.DataLoader(train, batch_size = 64)\r\n",
    "val_loader = dt.DataLoader(val, batch_size = 64)\r\n",
    "test_loader = dt.DataLoader(test, batch_size = 64)"
   ],
   "outputs": [],
   "metadata": {}
  },
  {
   "cell_type": "code",
   "execution_count": 6,
   "source": [
    "def get_accuracy(model, loader, criterion):\r\n",
    "    \"\"\" Compute the accuracy of the `model` across a dataset `data`\r\n",
    "    \r\n",
    "    Example usage:\r\n",
    "    \r\n",
    "    >>> model = MyRNN() # to be defined\r\n",
    "    >>> get_accuracy(model, valid) # the variable `valid` is from above\r\n",
    "    \"\"\"\r\n",
    "    model = model.cuda()\r\n",
    "    total_loss = 0.0\r\n",
    "    total_err = 0.0\r\n",
    "    total_epoch = 0\r\n",
    "    for i, picture in enumerate(loader, 0):\r\n",
    "        picture = picture.cuda()\r\n",
    "        outputs = model(picture)\r\n",
    "        loss = criterion(outputs, picture)\r\n",
    "        corr = torch.sum(torch.eq(picture, outputs))\r\n",
    "        total_err += int(corr.sum())\r\n",
    "        total_loss += loss.item()\r\n",
    "        total_epoch += len(picture)\r\n",
    "    err = float(total_err) / total_epoch\r\n",
    "    loss = float(total_loss) / (i + 1)\r\n",
    "    return err, loss"
   ],
   "outputs": [],
   "metadata": {}
  },
  {
   "cell_type": "code",
   "execution_count": 7,
   "source": [
    "def pathy(epoch, batch_size, lr):\r\n",
    "    model_path = os.path.join('Data','Training', f'epoch_{epoch}_batch{batch_size}_lr{lr}')\r\n",
    "    return model_path"
   ],
   "outputs": [],
   "metadata": {}
  },
  {
   "cell_type": "code",
   "execution_count": 8,
   "source": [
    "def train_auto(net, batch_size = 64, lr = 0.01, epoch = 30):\r\n",
    "    net = net.cuda()\r\n",
    "    random.seed(1000)\r\n",
    "    np.random.seed(1000)\r\n",
    "    torch.manual_seed(1000)\r\n",
    "    torch.cuda.manual_seed(1000)\r\n",
    "    \r\n",
    "    criterion = nn.MSELoss() #since we used 2 classes instead of 1. \r\n",
    "    optimizer = optim.Adam(net.parameters(), lr=lr)\r\n",
    "    \r\n",
    "    train_err = np.zeros(epoch)\r\n",
    "    train_loss = np.zeros(epoch)\r\n",
    "    val_err = np.zeros(epoch)\r\n",
    "    val_loss = np.zeros(epoch)\r\n",
    "    \r\n",
    "    start_time = time.time()\r\n",
    "    \r\n",
    "    for epoch in range(epoch):  # loop over the dataset multiple times\r\n",
    "        total_train_loss = 0.0\r\n",
    "        total_train_err = 0.0\r\n",
    "        total_epoch = 0\r\n",
    "        for i, picture in enumerate(train_loader):\r\n",
    "            \r\n",
    "            picture = picture.cuda()\r\n",
    "            #print(picture.shape)\r\n",
    "            \r\n",
    "            optimizer.zero_grad()\r\n",
    "            outputs = net(picture)\r\n",
    "            loss = criterion(outputs, picture)\r\n",
    "    \r\n",
    "            loss.backward()\r\n",
    "            optimizer.step()\r\n",
    "\r\n",
    "            corr = torch.sum(torch.eq(picture, outputs))\r\n",
    "            total_train_err += int(corr.sum())\r\n",
    "            total_train_loss += loss.item()\r\n",
    "            total_epoch += len(picture)\r\n",
    "        \r\n",
    "        train_err[epoch] = float(total_train_err) / total_epoch\r\n",
    "        train_loss[epoch] = float(total_train_loss) / (i+1)\r\n",
    "        val_err[epoch], val_loss[epoch] = get_accuracy(net, val_loader, criterion)\r\n",
    "        print((\"Epoch {}: Train accuracy: {}, Train loss: {} | \"+\r\n",
    "               \"Validation accuracy: {}, Validation loss: {}\").format(\r\n",
    "                   epoch + 1,\r\n",
    "                   1 - train_err[epoch],\r\n",
    "                   train_loss[epoch],\r\n",
    "                   1 - val_err[epoch],\r\n",
    "                   val_loss[epoch]))\r\n",
    "        # Save the current model (checkpoint) to a file\r\n",
    "        model_path = pathy(epoch, batch_size, lr)\r\n",
    "        torch.save(net.state_dict(), model_path)\r\n",
    "    print('Finished Training')\r\n",
    "    end_time = time.time()\r\n",
    "    elapsed_time = end_time - start_time\r\n",
    "    print(\"Total time elapsed: {:.2f} seconds\".format(elapsed_time))\r\n",
    "    # Write the train/test loss/err into CSV file for plotting later\r\n",
    "    #print(net.state_dict())\r\n",
    "    epochs = np.arange(1, epoch + 1)\r\n",
    "    np.savetxt(\"{}_train_acc.csv\".format(model_path), 1 - train_err)\r\n",
    "    np.savetxt(\"{}_train_loss.csv\".format(model_path), train_loss)\r\n",
    "    np.savetxt(\"{}_val_acc.csv\".format(model_path), 1 - val_err)\r\n",
    "    np.savetxt(\"{}_val_loss.csv\".format(model_path), val_loss)\r\n",
    "\r\n",
    "    return criterion"
   ],
   "outputs": [],
   "metadata": {}
  },
  {
   "cell_type": "code",
   "execution_count": 9,
   "source": [
    "def plot_training_curve(path):\r\n",
    "    \"\"\" Plots the training curve for a model run, given the csv files\r\n",
    "    containing the train/validation error/loss.\r\n",
    "\r\n",
    "    Args:\r\n",
    "        path: The base path of the csv files produced during training\r\n",
    "    \"\"\"\r\n",
    "    import matplotlib.pyplot as plt\r\n",
    "    train_acc = np.loadtxt(\"{}_train_acc.csv\".format(path))\r\n",
    "    val_acc = np.loadtxt(\"{}_val_acc.csv\".format(path))\r\n",
    "    train_loss = np.loadtxt(\"{}_train_loss.csv\".format(path))\r\n",
    "    val_loss = np.loadtxt(\"{}_val_loss.csv\".format(path))\r\n",
    "    plt.title(\"Train vs Validation Error\")\r\n",
    "    n = len(train_acc) # number of epochs\r\n",
    "    plt.plot(range(1,n+1), train_acc, label=\"Train\")\r\n",
    "    plt.plot(range(1,n+1), val_acc, label=\"Validation\")\r\n",
    "    plt.xlabel(\"Epoch\")\r\n",
    "    plt.ylabel(\"Accuracy\")\r\n",
    "    plt.legend(loc='best')\r\n",
    "    plt.show()\r\n",
    "    plt.title(\"Train vs Validation Loss\")\r\n",
    "    plt.plot(range(1,n+1), train_loss, label=\"Train\")\r\n",
    "    plt.plot(range(1,n+1), val_loss, label=\"Validation\")\r\n",
    "    plt.xlabel(\"Epoch\")\r\n",
    "    plt.ylabel(\"Loss\")\r\n",
    "    plt.legend(loc='best')\r\n",
    "    plt.show()"
   ],
   "outputs": [],
   "metadata": {}
  },
  {
   "cell_type": "code",
   "execution_count": 10,
   "source": [
    "auto = AutoEncoder()\r\n",
    "crit = train_auto(auto)"
   ],
   "outputs": [
    {
     "output_type": "stream",
     "name": "stdout",
     "text": [
      "Epoch 1: Train accuracy: 0.9995909183882185, Train loss: 1.3729821472633175 | Validation accuracy: 1.0, Validation loss: 1.1923794187075718\n",
      "Epoch 2: Train accuracy: 0.9995630264601424, Train loss: 1.1929612069311488 | Validation accuracy: 1.0, Validation loss: 1.1789833572803516\n",
      "Epoch 3: Train accuracy: 0.9995072426039904, Train loss: 1.184843504733801 | Validation accuracy: 1.0, Validation loss: 1.1744275804944513\n",
      "Epoch 4: Train accuracy: 0.9984287547183845, Train loss: 1.1802759643894516 | Validation accuracy: 0.9961321035406129, Validation loss: 1.1709540500460078\n",
      "Epoch 5: Train accuracy: 0.9994049722010451, Train loss: 1.1775641354118906 | Validation accuracy: 1.0, Validation loss: 1.1696251161855544\n",
      "Epoch 6: Train accuracy: 0.9989679986611875, Train loss: 1.1753914840231334 | Validation accuracy: 1.0, Validation loss: 1.1656402083934765\n",
      "Epoch 7: Train accuracy: 0.9994235668197624, Train loss: 1.1726105643623574 | Validation accuracy: 1.0, Validation loss: 1.1635466463757917\n",
      "Epoch 8: Train accuracy: 0.9984008627903085, Train loss: 1.1713265558213863 | Validation accuracy: 1.0, Validation loss: 1.162338279434855\n",
      "Epoch 9: Train accuracy: 0.9989865932799048, Train loss: 1.1704577867081305 | Validation accuracy: 1.0, Validation loss: 1.1614449854710656\n",
      "Epoch 10: Train accuracy: 0.9989215121143941, Train loss: 1.1699911992086107 | Validation accuracy: 1.0, Validation loss: 1.161187491145744\n",
      "Epoch 11: Train accuracy: 0.9994142695104037, Train loss: 1.1695660659417306 | Validation accuracy: 1.0, Validation loss: 1.1605777401494755\n",
      "Epoch 12: Train accuracy: 0.9989215121143941, Train loss: 1.1693580588154109 | Validation accuracy: 1.0, Validation loss: 1.1602444654392405\n",
      "Epoch 13: Train accuracy: 0.9989958905892634, Train loss: 1.169047254561527 | Validation accuracy: 1.0, Validation loss: 1.1599895739442365\n",
      "Epoch 14: Train accuracy: 0.9995072426039904, Train loss: 1.1688304580016764 | Validation accuracy: 1.0, Validation loss: 1.1597500141198036\n",
      "Epoch 15: Train accuracy: 0.9990888636828502, Train loss: 1.1686458022448365 | Validation accuracy: 1.0, Validation loss: 1.159651811653969\n",
      "Epoch 16: Train accuracy: 0.9994607560571971, Train loss: 1.168891046743603 | Validation accuracy: 1.0, Validation loss: 1.160848607949171\n",
      "Epoch 17: Train accuracy: 0.9996095130069358, Train loss: 1.169108465730541 | Validation accuracy: 1.0, Validation loss: 1.1596103686292025\n",
      "Epoch 18: Train accuracy: 0.9996374049350119, Train loss: 1.1688087079086735 | Validation accuracy: 0.9947932163046712, Validation loss: 1.1594113862909976\n",
      "Epoch 19: Train accuracy: 0.9994607560571971, Train loss: 1.1689160635328095 | Validation accuracy: 1.0, Validation loss: 1.1592421283089154\n",
      "Epoch 20: Train accuracy: 0.9989494040424701, Train loss: 1.16859053125841 | Validation accuracy: 0.995834573043737, Validation loss: 1.1595207401926484\n",
      "Epoch 21: Train accuracy: 0.9995165399133491, Train loss: 1.1686460837801604 | Validation accuracy: 1.0, Validation loss: 1.1593385742738913\n",
      "Epoch 22: Train accuracy: 0.9994700533665557, Train loss: 1.1684336601659557 | Validation accuracy: 1.0, Validation loss: 1.158876018501571\n",
      "Epoch 23: Train accuracy: 0.9994142695104037, Train loss: 1.1683704334664105 | Validation accuracy: 1.0, Validation loss: 1.1589670164325225\n",
      "Epoch 24: Train accuracy: 0.9995351345320664, Train loss: 1.1681669093469012 | Validation accuracy: 1.0, Validation loss: 1.1587646809799412\n",
      "Epoch 25: Train accuracy: 0.9989401067331114, Train loss: 1.1685758232006638 | Validation accuracy: 1.0, Validation loss: 1.1588720241429116\n",
      "Epoch 26: Train accuracy: 0.9989865932799048, Train loss: 1.1681030120330507 | Validation accuracy: 1.0, Validation loss: 1.1588888507318722\n",
      "Epoch 27: Train accuracy: 0.9995630264601424, Train loss: 1.1680055775151659 | Validation accuracy: 0.9950907468015472, Validation loss: 1.158701013614781\n",
      "Epoch 28: Train accuracy: 0.9994700533665557, Train loss: 1.168023425152726 | Validation accuracy: 1.0, Validation loss: 1.1589532717709292\n",
      "Epoch 29: Train accuracy: 0.999377080272969, Train loss: 1.1679469189212692 | Validation accuracy: 1.0, Validation loss: 1.1587196221283826\n",
      "Epoch 30: Train accuracy: 0.999488647985273, Train loss: 1.1692486826966448 | Validation accuracy: 1.0, Validation loss: 1.1592447622127442\n",
      "Finished Training\n",
      "Total time elapsed: 2897.66 seconds\n"
     ]
    }
   ],
   "metadata": {}
  },
  {
   "cell_type": "code",
   "execution_count": 11,
   "source": [
    "plot_training_curve(pathy(epoch=29, batch_size=64, lr = 0.01))"
   ],
   "outputs": [
    {
     "output_type": "display_data",
     "data": {
      "text/plain": [
       "<Figure size 432x288 with 1 Axes>"
      ],
      "image/png": "[encoded data removed]"
     },
     "metadata": {
      "needs_background": "light"
     }
    },
    {
     "output_type": "display_data",
     "data": {
      "text/plain": [
       "<Figure size 432x288 with 1 Axes>"
      ],
      "image/png": "[encoded data removed]"
     },
     "metadata": {
      "needs_background": "light"
     }
    }
   ],
   "metadata": {}
  },
  {
   "cell_type": "code",
   "execution_count": 26,
   "source": [
    "torch.save(auto.state_dict(), 'Data/state.pth')"
   ],
   "outputs": [],
   "metadata": {}
  },
  {
   "cell_type": "code",
   "execution_count": 24,
   "source": [
    "auto_load = AutoEncoder()\r\n",
    "stuff = torch.load('Data\\state.pth')\r\n",
    "auto_load.load_state_dict(stuff)"
   ],
   "outputs": [],
   "metadata": {}
  }
 ],
 "metadata": {
  "orig_nbformat": 4,
  "language_info": {
   "name": "python",
   "version": "3.9.5",
   "mimetype": "text/x-python",
   "codemirror_mode": {
    "name": "ipython",
    "version": 3
   },
   "pygments_lexer": "ipython3",
   "nbconvert_exporter": "python",
   "file_extension": ".py"
  },
  "kernelspec": {
   "name": "python3",
   "display_name": "Python 3.9.5 64-bit ('env': venv)"
  },
  "interpreter": {
   "hash": "4d1086b2def7ca966311c553e54c5365a2af11e0349a9b38cb8d60ef369f1c88"
  }
 },
 "nbformat": 4,
 "nbformat_minor": 2
}