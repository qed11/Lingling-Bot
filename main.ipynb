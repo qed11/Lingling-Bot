{
 "cells": [
  {
   "cell_type": "code",
   "execution_count": 1,
   "source": [
    "import numpy as np\r\n",
    "import matplotlib.pyplot as plt\r\n",
    "import torch\r\n",
    "import torch.nn as nn\r\n",
    "import torch.nn.functional as F\r\n",
    "import torch.optim as optim\r\n",
    "import torchvision\r\n",
    "import torch.utils.data as dt\r\n",
    "import torchvision.transforms as transforms\r\n",
    "import time\r\n",
    "import os\r\n",
    "import random\r\n",
    "from PIL import Image\r\n",
    "from youtube_scraper import download_csv_audio\r\n",
    "from preprocessor import autoencoder_hilbert_data, autoencoder_spectrogram_data\r\n",
    "from dataset import AutoDataset"
   ],
   "outputs": [],
   "metadata": {}
  },
  {
   "cell_type": "code",
   "execution_count": 2,
   "source": [
    "og = os.getcwd()"
   ],
   "outputs": [],
   "metadata": {}
  },
  {
   "cell_type": "code",
   "execution_count": 3,
   "source": [
    "print(og)\r\n",
    "print(os.path.join(og, 'Data'))"
   ],
   "outputs": [
    {
     "output_type": "stream",
     "name": "stdout",
     "text": [
      "c:\\Users\\Adai9\\GitHub\\Lingling-Bot\n",
      "c:\\Users\\Adai9\\GitHub\\Lingling-Bot\\Data\n"
     ]
    }
   ],
   "metadata": {}
  },
  {
   "cell_type": "code",
   "execution_count": 8,
   "source": [
    "def get_autoencoder_data(csv_path, win_len = 2048, hilbert = False, set_percent = 0.1):\r\n",
    "    download_csv_audio(csv_path)                                                                    #Download all the youtube links as .wav files\r\n",
    "    os.chdir(og+\"/Downloads/Audios/\")\r\n",
    "    n = 0\r\n",
    "    counter = 0\r\n",
    "    for file in os.listdir(og+'/Downloads/Audios'):\r\n",
    "        \r\n",
    "        n += 1                                                                                          #where the youtube files were saved\r\n",
    "        print(f\"Iteration{n}\")\r\n",
    "        print(file)\r\n",
    "        if file.endswith(\".wav\"):                                                                   #For each .wav file in the downloaded path\r\n",
    "            print(\"executed1\")\r\n",
    "            if hilbert: \r\n",
    "                newpath = os.path.join(og, 'Data', 'Hilbert','Autoencoder')                                                                 #If hilbert is required, save the .wav files as hilbert curve data\r\n",
    "                print(\"Executed2\")\r\n",
    "                data = autoencoder_hilbert_data(file, win_len = win_len)\r\n",
    "            else:                                                                                                                #Else, save the .wav files as spectrogram data\r\n",
    "                newpath = os.path.join(og, 'Data', 'Spectrogram','Autoencoder') \r\n",
    "                print(\"Executed 3\")                                                                                       \r\n",
    "                data = autoencoder_spectrogram_data(file, win_len = win_len, n_fft = 32768, sample_freq = 11025)\r\n",
    "            \r\n",
    "            print('executed4')\r\n",
    "        \r\n",
    "        try:\r\n",
    "            for array in data:\r\n",
    "                counter += 1\r\n",
    "                norm = (array - np.min(array))/(np.max(array) - np.min(array))*255\r\n",
    "                norm = norm.astype(np.uint8)\r\n",
    "                im = Image.fromarray(norm)\r\n",
    "                im.save(os.path.join(newpath,str(counter)+\".png\"))\r\n",
    "        except:\r\n",
    "            continue\r\n",
    "    \r\n",
    "    \r\n",
    "    os.chdir(og)\r\n",
    "    return autoencoder_dataset(newpath, set_percent = 0.1)\r\n",
    "    \r\n",
    "    "
   ],
   "outputs": [],
   "metadata": {}
  },
  {
   "cell_type": "code",
   "execution_count": 5,
   "source": [
    "def autoencoder_dataset(path, set_percent = 0.1):\r\n",
    "    transform = transforms.Compose([transforms.ToTensor(), transforms.Normalize((0.5), (0.5/3))])   #Make sure images are tensors, lie within 0 and 1\r\n",
    "    dataset = AutoDataset(path, transform = transform) #need to implement   #Turn the images into a dataset\r\n",
    "    set_size = int( set_percent * len( dataset ) )                                                        #Length of test and validation sets\r\n",
    "    return dt.random_split(dataset, [len( dataset ) - 2 * set_size, set_size, set_size])                #Return datasets in order of training set, validation set, test setde"
   ],
   "outputs": [],
   "metadata": {}
  },
  {
   "cell_type": "code",
   "execution_count": 10,
   "source": [
    "os.chdir(og)\r\n",
    "train, val, test = get_autoencoder_data('stuff.csv', win_len=32768, hilbert = True, set_percent = 0.1)"
   ],
   "outputs": [
    {
     "output_type": "stream",
     "name": "stdout",
     "text": [
      "[youtube] fOk8Tm815lE: Downloading webpage\n",
      "[download] Ludwig Van Beethoven's 5th Symphony in C Minor (Full).mp4 has already been downloaded\n",
      "[download] 100% of 78.85MiB\n",
      "[youtube] fOk8Tm815lE: Downloading webpage\n",
      "MoviePy - Writing audio in Ludwig Van Beethoven's 5th Symphony in C Minor (Full).wav\n"
     ]
    },
    {
     "output_type": "stream",
     "name": "stderr",
     "text": [
      "                                                                        "
     ]
    },
    {
     "output_type": "stream",
     "name": "stdout",
     "text": [
      "MoviePy - Done.\n",
      "[youtube] JMrm9jEo_Pk: Downloading webpage\n"
     ]
    },
    {
     "output_type": "stream",
     "name": "stderr",
     "text": []
    },
    {
     "output_type": "stream",
     "name": "stdout",
     "text": [
      "[download] Beethoven - Symphony no. 7 in A major, op.92.mp4 has already been downloaded\n",
      "[download] 100% of 84.20MiB\n",
      "[youtube] JMrm9jEo_Pk: Downloading webpage\n",
      "MoviePy - Writing audio in Beethoven - Symphony no. 7 in A major, op.92.wav\n"
     ]
    },
    {
     "output_type": "stream",
     "name": "stderr",
     "text": [
      "                                                                        "
     ]
    },
    {
     "output_type": "stream",
     "name": "stdout",
     "text": [
      "MoviePy - Done.\n",
      "[youtube] bnK3kh8ZEgA: Downloading webpage\n"
     ]
    },
    {
     "output_type": "stream",
     "name": "stderr",
     "text": []
    },
    {
     "output_type": "stream",
     "name": "stdout",
     "text": [
      "[download] Mozart - Symphony No. 41 in C, K. 551 [complete] (Jupiter).mp4 has already been downloaded\n",
      "[download] 100% of 57.86MiB\n",
      "[youtube] bnK3kh8ZEgA: Downloading webpage\n",
      "MoviePy - Writing audio in Mozart - Symphony No. 41 in C, K. 551 [complete] (Jupiter).wav\n"
     ]
    },
    {
     "output_type": "stream",
     "name": "stderr",
     "text": [
      "                                                                        "
     ]
    },
    {
     "output_type": "stream",
     "name": "stdout",
     "text": [
      "MoviePy - Done.\n",
      "[youtube] rNeirjA65Dk: Downloading webpage\n"
     ]
    },
    {
     "output_type": "stream",
     "name": "stderr",
     "text": []
    },
    {
     "output_type": "stream",
     "name": "stdout",
     "text": [
      "[download] Mozart - Symphony No. 25 in G minor, K. 183 [complete].mp4 has already been downloaded\n",
      "[download] 100% of 36.04MiB\n",
      "[youtube] rNeirjA65Dk: Downloading webpage\n",
      "MoviePy - Writing audio in Mozart - Symphony No. 25 in G minor, K. 183 [complete].wav\n"
     ]
    },
    {
     "output_type": "stream",
     "name": "stderr",
     "text": [
      "                                                                        "
     ]
    },
    {
     "output_type": "stream",
     "name": "stdout",
     "text": [
      "MoviePy - Done.\n",
      "[youtube] xI8IzIKGslA: Downloading webpage\n"
     ]
    },
    {
     "output_type": "stream",
     "name": "stderr",
     "text": []
    },
    {
     "output_type": "stream",
     "name": "stdout",
     "text": [
      "[youtube] xI8IzIKGslA: Downloading MPD manifest\n",
      "[download] Mendelssohn - Symphony No. 4 in A major, Op. 90 'Italian' (with Score).mp4 has already been downloaded\n",
      "[download] 100% of 53.88MiB\n",
      "[youtube] xI8IzIKGslA: Downloading webpage\n",
      "[youtube] xI8IzIKGslA: Downloading MPD manifest\n",
      "MoviePy - Writing audio in Mendelssohn - Symphony No. 4 in A major, Op. 90 'Italian' (with Score).wav\n"
     ]
    },
    {
     "output_type": "stream",
     "name": "stderr",
     "text": []
    },
    {
     "output_type": "stream",
     "name": "stdout",
     "text": [
      "MoviePy - Done.\n",
      "[youtube] PoHooMaTZcU: Downloading webpage\n",
      "[youtube] PoHooMaTZcU: Downloading MPD manifest\n",
      "[download] Mendelssohn - Symphony No. 3 in A minor, Op. 56 'Scottish' (with Score).mp4 has already been downloaded\n",
      "[download] 100% of 78.03MiB\n",
      "[youtube] PoHooMaTZcU: Downloading webpage\n",
      "[youtube] PoHooMaTZcU: Downloading MPD manifest\n",
      "MoviePy - Writing audio in Mendelssohn - Symphony No. 3 in A minor, Op. 56 'Scottish' (with Score).wav\n"
     ]
    },
    {
     "output_type": "stream",
     "name": "stderr",
     "text": []
    },
    {
     "output_type": "stream",
     "name": "stdout",
     "text": [
      "MoviePy - Done.\n",
      "[youtube] IAmfulkOr0I: Downloading webpage\n",
      "[youtube] IAmfulkOr0I: Downloading MPD manifest\n",
      "[download] Rachmaninoff - Symphony No. 3 in A minor, Op. 44 (with Score).mp4 has already been downloaded\n",
      "[download] 100% of 60.78MiB\n",
      "[youtube] IAmfulkOr0I: Downloading webpage\n",
      "[youtube] IAmfulkOr0I: Downloading MPD manifest\n",
      "MoviePy - Writing audio in Rachmaninoff - Symphony No. 3 in A minor, Op. 44 (with Score).wav\n"
     ]
    },
    {
     "output_type": "stream",
     "name": "stderr",
     "text": []
    },
    {
     "output_type": "stream",
     "name": "stdout",
     "text": [
      "MoviePy - Done.\n",
      "[youtube] 4_PSjr47AUo: Downloading webpage\n",
      "[download] Tchaikovsky - Symphony No. 5 (Complete Score).mp4 has already been downloaded\n",
      "[download] 100% of 54.29MiB\n",
      "[youtube] 4_PSjr47AUo: Downloading webpage\n",
      "MoviePy - Writing audio in Tchaikovsky - Symphony No. 5 (Complete Score).wav\n"
     ]
    },
    {
     "output_type": "stream",
     "name": "stderr",
     "text": []
    },
    {
     "output_type": "stream",
     "name": "stdout",
     "text": [
      "MoviePy - Done.\n",
      "[youtube] MtSbDJWF0q4: Downloading webpage\n",
      "[download] Tchaikovsky - Violin Concerto in D major, op. 35.mp4 has already been downloaded\n",
      "[download] 100% of 120.58MiB\n",
      "[youtube] MtSbDJWF0q4: Downloading webpage\n",
      "MoviePy - Writing audio in Tchaikovsky - Violin Concerto in D major, op. 35.wav\n"
     ]
    },
    {
     "output_type": "stream",
     "name": "stderr",
     "text": [
      "                                                                        "
     ]
    },
    {
     "output_type": "stream",
     "name": "stdout",
     "text": [
      "MoviePy - Done.\n",
      "[youtube] Lst1Aex2vcQ: Downloading webpage\n"
     ]
    },
    {
     "output_type": "stream",
     "name": "stderr",
     "text": []
    },
    {
     "output_type": "stream",
     "name": "stdout",
     "text": [
      "[download] Johannes Brahms - Symphony no.3, op.90 (complete).mp4 has already been downloaded\n",
      "[download] 100% of 76.30MiB\n",
      "[youtube] Lst1Aex2vcQ: Downloading webpage\n",
      "MoviePy - Writing audio in Johannes Brahms - Symphony no.3, op.90 (complete).wav\n"
     ]
    },
    {
     "output_type": "stream",
     "name": "stderr",
     "text": [
      "                                                                        "
     ]
    },
    {
     "output_type": "stream",
     "name": "stdout",
     "text": [
      "MoviePy - Done.\n",
      "[youtube] pT6SN4tPbv8: Downloading webpage\n"
     ]
    },
    {
     "output_type": "stream",
     "name": "stderr",
     "text": []
    },
    {
     "output_type": "stream",
     "name": "stdout",
     "text": [
      "[download] Johannes Brahms - Symphony no.4, op.98 (complete).mp4 has already been downloaded\n",
      "[download] 100% of 89.41MiB\n",
      "[youtube] pT6SN4tPbv8: Downloading webpage\n",
      "MoviePy - Writing audio in Johannes Brahms - Symphony no.4, op.98 (complete).wav\n"
     ]
    },
    {
     "output_type": "stream",
     "name": "stderr",
     "text": []
    },
    {
     "output_type": "stream",
     "name": "stdout",
     "text": [
      "MoviePy - Done.\n",
      "[youtube] sK4dz6Gbcdk: Downloading webpage\n",
      "[download] Berlioz - Fantasy Symphony Op.14　Karajan　Berlin Philharmonic　1974.mp4 has already been downloaded\n",
      "[download] 100% of 115.92MiB\n",
      "[youtube] sK4dz6Gbcdk: Downloading webpage\n",
      "MoviePy - Writing audio in Berlioz - Fantasy Symphony Op.14　Karajan　Berlin Philharmonic　1974.wav\n"
     ]
    },
    {
     "output_type": "stream",
     "name": "stderr",
     "text": [
      "                                                                        "
     ]
    },
    {
     "output_type": "stream",
     "name": "stdout",
     "text": [
      "MoviePy - Done.\n",
      "[youtube] 5gwjkFoBX4Y: Downloading webpage\n"
     ]
    },
    {
     "output_type": "stream",
     "name": "stderr",
     "text": []
    },
    {
     "output_type": "stream",
     "name": "stdout",
     "text": [
      "[download] Jean Sibelius - Violin Concerto in D minor.mp4 has already been downloaded\n",
      "[download] 100% of 76.63MiB\n",
      "[youtube] 5gwjkFoBX4Y: Downloading webpage\n",
      "MoviePy - Writing audio in Jean Sibelius - Violin Concerto in D minor.wav\n"
     ]
    },
    {
     "output_type": "stream",
     "name": "stderr",
     "text": []
    },
    {
     "output_type": "stream",
     "name": "stdout",
     "text": [
      "MoviePy - Done.\n",
      "[youtube] 4MPuoOj5TIw: Downloading webpage\n",
      "[download] Gustav Mahler - Symphony No. 2 'Resurrection' (Lucerne Festival Orchestra, Claudio Abbado).mp4 has already been downloaded\n",
      "[download] 100% of 384.36MiB\n",
      "[youtube] 4MPuoOj5TIw: Downloading webpage\n",
      "MoviePy - Writing audio in Gustav Mahler - Symphony No. 2 'Resurrection' (Lucerne Festival Orchestra, Claudio Abbado).wav\n"
     ]
    },
    {
     "output_type": "stream",
     "name": "stderr",
     "text": []
    },
    {
     "output_type": "stream",
     "name": "stdout",
     "text": [
      "MoviePy - Done.\n",
      "[youtube] Bh_nHgbhYRg: Downloading webpage\n",
      "[download] Antonìn Dvořák - Symphony No. 9 'From the New World' Op. 95 _ Claudio Abbado. (Live Performance).mp4 has already been downloaded\n",
      "[download] 100% of 74.49MiB\n",
      "[youtube] Bh_nHgbhYRg: Downloading webpage\n",
      "MoviePy - Writing audio in Antonìn Dvořák - Symphony No. 9 'From the New World' Op. 95 _ Claudio Abbado. (Live Performance).wav\n"
     ]
    },
    {
     "output_type": "stream",
     "name": "stderr",
     "text": [
      "                                                                        "
     ]
    },
    {
     "output_type": "stream",
     "name": "stdout",
     "text": [
      "MoviePy - Done.\n",
      "[youtube] JSURHWgA6OA: Downloading webpage\n"
     ]
    },
    {
     "output_type": "stream",
     "name": "stderr",
     "text": []
    },
    {
     "output_type": "stream",
     "name": "stdout",
     "text": [
      "[download] Steven Isserlis - Dvorak Cello Concerto.mp4 has already been downloaded\n",
      "[download] 100% of 165.94MiB\n",
      "[youtube] JSURHWgA6OA: Downloading webpage\n",
      "MoviePy - Writing audio in Steven Isserlis - Dvorak Cello Concerto.wav\n"
     ]
    },
    {
     "output_type": "stream",
     "name": "stderr",
     "text": []
    },
    {
     "output_type": "stream",
     "name": "stdout",
     "text": [
      "MoviePy - Done.\n",
      "[youtube] H-s-q8sRPS8: Downloading webpage\n",
      "[youtube] H-s-q8sRPS8: Downloading MPD manifest\n",
      "[download] Dvořák, Antonín - Serenade for winds, op.44 (with score).mp4 has already been downloaded\n",
      "[download] 100% of 39.68MiB\n",
      "[youtube] H-s-q8sRPS8: Downloading webpage\n",
      "[youtube] H-s-q8sRPS8: Downloading MPD manifest\n",
      "MoviePy - Writing audio in Dvořák, Antonín - Serenade for winds, op.44 (with score).wav\n"
     ]
    },
    {
     "output_type": "stream",
     "name": "stderr",
     "text": [
      "                                                                        "
     ]
    },
    {
     "output_type": "stream",
     "name": "stdout",
     "text": [
      "MoviePy - Done.\n",
      "[youtube] IvgyfqzLC0A: Downloading webpage\n"
     ]
    },
    {
     "output_type": "stream",
     "name": "stderr",
     "text": []
    },
    {
     "output_type": "stream",
     "name": "stdout",
     "text": [
      "[download] Respighi - Pines of Rome with standing ovation!!!.mp4 has already been downloaded\n",
      "[download] 100% of 110.32MiB\n",
      "[youtube] IvgyfqzLC0A: Downloading webpage\n",
      "MoviePy - Writing audio in Respighi - Pines of Rome with standing ovation!!!.wav\n"
     ]
    },
    {
     "output_type": "stream",
     "name": "stderr",
     "text": [
      "                                                                        "
     ]
    },
    {
     "output_type": "stream",
     "name": "stdout",
     "text": [
      "MoviePy - Done.\n",
      "[youtube] Isic2Z2e2xs: Downloading webpage\n"
     ]
    },
    {
     "output_type": "stream",
     "name": "stderr",
     "text": []
    },
    {
     "output_type": "stream",
     "name": "stdout",
     "text": [
      "[download] Gustav Holst- The Planets, Full Suite.mp4 has already been downloaded\n",
      "[download] 100% of 60.33MiB\n",
      "[youtube] Isic2Z2e2xs: Downloading webpage\n",
      "MoviePy - Writing audio in Gustav Holst- The Planets, Full Suite.wav\n"
     ]
    },
    {
     "output_type": "stream",
     "name": "stderr",
     "text": [
      "                                                                        "
     ]
    },
    {
     "output_type": "stream",
     "name": "stdout",
     "text": [
      "MoviePy - Done.\n",
      "[youtube] I1mLiYjA2vU: Downloading webpage\n"
     ]
    },
    {
     "output_type": "stream",
     "name": "stderr",
     "text": []
    },
    {
     "output_type": "stream",
     "name": "stdout",
     "text": [
      "[download] Scheherazade, Op. 35 - I. The Sea and Sinbad’s Ship.mp4 has already been downloaded\n",
      "[download] 100% of 14.40MiB\n",
      "[youtube] I1mLiYjA2vU: Downloading webpage\n",
      "MoviePy - Writing audio in Scheherazade, Op. 35 - I. The Sea and Sinbad’s Ship.wav\n"
     ]
    },
    {
     "output_type": "stream",
     "name": "stderr",
     "text": []
    },
    {
     "output_type": "stream",
     "name": "stdout",
     "text": [
      "MoviePy - Done.\n",
      "[youtube] 2SCqETAlrbk: Downloading webpage\n",
      "[download] Scheherazade, Op. 35 - II. The Tale of The Kalendar Prince.mp4 has already been downloaded\n",
      "[download] 100% of 18.11MiB\n",
      "[youtube] 2SCqETAlrbk: Downloading webpage\n",
      "MoviePy - Writing audio in Scheherazade, Op. 35 - II. The Tale of The Kalendar Prince.wav\n"
     ]
    },
    {
     "output_type": "stream",
     "name": "stderr",
     "text": [
      "                                                                        "
     ]
    },
    {
     "output_type": "stream",
     "name": "stdout",
     "text": [
      "MoviePy - Done.\n",
      "[youtube] PfbFXvlTxZ8: Downloading webpage\n"
     ]
    },
    {
     "output_type": "stream",
     "name": "stderr",
     "text": []
    },
    {
     "output_type": "stream",
     "name": "stdout",
     "text": [
      "[download] Scheherazade, Op. 35 - III. The Young Prince and The Young Princess.mp4 has already been downloaded\n",
      "[download] 100% of 14.58MiB\n",
      "[youtube] PfbFXvlTxZ8: Downloading webpage\n",
      "MoviePy - Writing audio in Scheherazade, Op. 35 - III. The Young Prince and The Young Princess.wav\n"
     ]
    },
    {
     "output_type": "stream",
     "name": "stderr",
     "text": [
      "                                                                        "
     ]
    },
    {
     "output_type": "stream",
     "name": "stdout",
     "text": [
      "MoviePy - Done.\n",
      "[youtube] LxEblBc29is: Downloading webpage\n"
     ]
    },
    {
     "output_type": "stream",
     "name": "stderr",
     "text": []
    },
    {
     "output_type": "stream",
     "name": "stdout",
     "text": [
      "[download] Scheherazade, Op. 35 - IV. Festival at Baghdad – The Sea – The Shipwreck.mp4 has already been downloaded\n",
      "[download] 100% of 18.22MiB\n",
      "[youtube] LxEblBc29is: Downloading webpage\n",
      "MoviePy - Writing audio in Scheherazade, Op. 35 - IV. Festival at Baghdad – The Sea – The Shipwreck.wav\n"
     ]
    },
    {
     "output_type": "stream",
     "name": "stderr",
     "text": []
    },
    {
     "output_type": "stream",
     "name": "stdout",
     "text": [
      "MoviePy - Done.\n",
      "Iteration1\n",
      "Antonìn Dvořák - Symphony No. 9 'From the New World' Op. 95 _ Claudio Abbado. (Live Performance).wav\n",
      "executed1\n",
      "Executed2\n",
      "Check 1\n",
      "Check 2\n",
      "Check 3\n",
      "Check 4\n",
      "executed4\n",
      "Iteration2\n",
      "Beethoven - Symphony no. 7 in A major, op.92.wav\n",
      "executed1\n",
      "Executed2\n",
      "Check 1\n",
      "Check 2\n",
      "Check 3\n",
      "Check 4\n",
      "executed4\n",
      "Iteration3\n",
      "Berlioz - Fantasy Symphony Op.14　Karajan　Berlin Philharmonic　1974.wav\n",
      "executed1\n",
      "Executed2\n",
      "Check 1\n",
      "Check 2\n",
      "Check 3\n",
      "Check 4\n",
      "executed4\n",
      "Iteration4\n",
      "Dvořák, Antonín - Serenade for winds, op.44 (with score).wav\n",
      "executed1\n",
      "Executed2\n",
      "Check 1\n",
      "Check 2\n",
      "Check 3\n",
      "Check 4\n",
      "executed4\n",
      "Iteration5\n",
      "Elgar：Cello Concerto ／Cello -Yo-Yo Ma （1994）.wav\n",
      "executed1\n",
      "Executed2\n",
      "Check 1\n",
      "Check 2\n",
      "Check 3\n",
      "Check 4\n",
      "executed4\n",
      "Iteration6\n",
      "Gustav Holst- The Planets, Full Suite.wav\n",
      "executed1\n",
      "Executed2\n",
      "Check 1\n",
      "Check 2\n",
      "Check 3\n",
      "Check 4\n",
      "executed4\n",
      "Iteration7\n",
      "Gustav Mahler - Symphony No. 2 'Resurrection' (Lucerne Festival Orchestra, Claudio Abbado).wav\n",
      "executed1\n",
      "Executed2\n",
      "Check 1\n",
      "Check 2\n",
      "Check 3\n",
      "Check 4\n",
      "executed4\n",
      "Iteration8\n",
      "Hilary Hahn plays Ernst' s Grand Caprice on Schubert's Der Erlkönig, Op. 26.wav\n",
      "executed1\n",
      "Executed2\n",
      "Check 1\n",
      "Check 2\n",
      "Check 3\n",
      "Check 4\n",
      "executed4\n",
      "Iteration9\n",
      "Jean Sibelius - Violin Concerto in D minor.wav\n",
      "executed1\n",
      "Executed2\n",
      "Check 1\n",
      "Check 2\n",
      "Check 3\n",
      "Check 4\n",
      "executed4\n",
      "Iteration10\n",
      "Johannes Brahms - Symphony no.3, op.90 (complete).wav\n",
      "executed1\n",
      "Executed2\n",
      "Check 1\n",
      "Check 2\n",
      "Check 3\n",
      "Check 4\n",
      "executed4\n",
      "Iteration11\n",
      "Johannes Brahms - Symphony no.4, op.98 (complete).wav\n",
      "executed1\n",
      "Executed2\n",
      "Check 1\n",
      "Check 2\n",
      "Check 3\n",
      "Check 4\n",
      "executed4\n",
      "Iteration12\n",
      "Ludwig Van Beethoven's 5th Symphony in C Minor (Full).wav\n",
      "executed1\n",
      "Executed2\n",
      "Check 1\n",
      "Check 2\n",
      "Check 3\n",
      "Check 4\n",
      "executed4\n",
      "Iteration13\n",
      "Mendelssohn - Symphony No. 3 in A minor, Op. 56 'Scottish' (with Score).wav\n",
      "executed1\n",
      "Executed2\n",
      "Check 1\n",
      "Check 2\n",
      "Check 3\n",
      "Check 4\n",
      "executed4\n",
      "Iteration14\n",
      "Mendelssohn - Symphony No. 4 in A major, Op. 90 'Italian' (with Score).wav\n",
      "executed1\n",
      "Executed2\n",
      "Check 1\n",
      "Check 2\n",
      "Check 3\n",
      "Check 4\n",
      "executed4\n",
      "Iteration15\n",
      "Mozart - Symphony No. 25 in G minor, K. 183 [complete].wav\n",
      "executed1\n",
      "Executed2\n",
      "Check 1\n",
      "Check 2\n",
      "Check 3\n",
      "Check 4\n",
      "executed4\n",
      "Iteration16\n",
      "Mozart - Symphony No. 41 in C, K. 551 [complete] (Jupiter).wav\n",
      "executed1\n",
      "Executed2\n",
      "Check 1\n",
      "Check 2\n",
      "Check 3\n",
      "Check 4\n",
      "executed4\n",
      "Iteration17\n",
      "Rachmaninoff - Symphony No. 3 in A minor, Op. 44 (with Score).wav\n",
      "executed1\n",
      "Executed2\n",
      "Check 1\n",
      "Check 2\n",
      "Check 3\n",
      "Check 4\n",
      "executed4\n",
      "Iteration18\n",
      "Respighi - Pines of Rome with standing ovation!!!.wav\n",
      "executed1\n",
      "Executed2\n",
      "Check 1\n",
      "Check 2\n",
      "Check 3\n",
      "Check 4\n",
      "executed4\n",
      "Iteration19\n",
      "Scheherazade, Op. 35 - I. The Sea and Sinbad’s Ship.wav\n",
      "executed1\n",
      "Executed2\n",
      "Check 1\n",
      "Check 2\n",
      "Check 3\n",
      "Check 4\n",
      "executed4\n",
      "Iteration20\n",
      "Scheherazade, Op. 35 - II. The Tale of The Kalendar Prince.wav\n",
      "executed1\n",
      "Executed2\n",
      "Check 1\n",
      "Check 2\n",
      "Check 3\n",
      "Check 4\n",
      "executed4\n",
      "Iteration21\n",
      "Scheherazade, Op. 35 - III. The Young Prince and The Young Princess.wav\n",
      "executed1\n",
      "Executed2\n",
      "Check 1\n",
      "Check 2\n",
      "Check 3\n",
      "Check 4\n",
      "executed4\n",
      "Iteration22\n",
      "Scheherazade, Op. 35 - IV. Festival at Baghdad – The Sea – The Shipwreck.wav\n",
      "executed1\n",
      "Executed2\n",
      "Check 1\n",
      "Check 2\n",
      "Check 3\n",
      "Check 4\n",
      "executed4\n",
      "Iteration23\n",
      "Steven Isserlis - Dvorak Cello Concerto.wav\n",
      "executed1\n",
      "Executed2\n",
      "Check 1\n",
      "Check 2\n",
      "Check 3\n",
      "Check 4\n",
      "executed4\n",
      "Iteration24\n",
      "Tchaikovsky - Symphony No. 5 (Complete Score).wav\n",
      "executed1\n",
      "Executed2\n",
      "Check 1\n",
      "Check 2\n",
      "Check 3\n",
      "Check 4\n",
      "executed4\n",
      "Iteration25\n",
      "Tchaikovsky - Violin Concerto in D major, op. 35.wav\n",
      "executed1\n",
      "Executed2\n",
      "Check 1\n",
      "Check 2\n",
      "Check 3\n",
      "Check 4\n",
      "executed4\n"
     ]
    }
   ],
   "metadata": {}
  },
  {
   "cell_type": "code",
   "execution_count": null,
   "source": [
    "print(train.dataset.root)"
   ],
   "outputs": [
    {
     "output_type": "stream",
     "name": "stdout",
     "text": [
      "c:\\Users\\Adai9\\GitHub\\Lingling-Bot\\Data\\Spectrogram\\Autoencoder\n"
     ]
    }
   ],
   "metadata": {}
  },
  {
   "cell_type": "code",
   "execution_count": null,
   "source": [
    "download_csv_audio('Elgar.csv')"
   ],
   "outputs": [
    {
     "output_type": "stream",
     "name": "stdout",
     "text": [
      "[youtube] 7rVW4Z70TfE: Downloading webpage\n",
      "[download] Destination: Elgar：Cello Concerto ／Cello -Yo-Yo Ma （1994）.mp4\n",
      "[download] 100% of 143.62MiB in 00:09                  \n",
      "[youtube] 7rVW4Z70TfE: Downloading webpage\n",
      "MoviePy - Writing audio in Elgar：Cello Concerto ／Cello -Yo-Yo Ma （1994）.wav\n"
     ]
    },
    {
     "output_type": "stream",
     "name": "stderr",
     "text": []
    },
    {
     "output_type": "stream",
     "name": "stdout",
     "text": [
      "MoviePy - Done.\n"
     ]
    }
   ],
   "metadata": {}
  }
 ],
 "metadata": {
  "interpreter": {
   "hash": "4d1086b2def7ca966311c553e54c5365a2af11e0349a9b38cb8d60ef369f1c88"
  },
  "kernelspec": {
   "display_name": "Python 3.9.5 64-bit ('env': venv)",
   "name": "python3"
  },
  "language_info": {
   "codemirror_mode": {
    "name": "ipython",
    "version": 3
   },
   "file_extension": ".py",
   "mimetype": "text/x-python",
   "name": "python",
   "nbconvert_exporter": "python",
   "pygments_lexer": "ipython3",
   "version": "3.9.5"
  },
  "orig_nbformat": 4
 },
 "nbformat": 4,
 "nbformat_minor": 2
}